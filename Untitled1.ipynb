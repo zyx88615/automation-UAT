{
 "cells": [
  {
   "cell_type": "code",
   "execution_count": 23,
   "id": "48037f3a",
   "metadata": {},
   "outputs": [
    {
     "name": "stderr",
     "output_type": "stream",
     "text": [
      "C:\\Users\\nzheng\\AppData\\Local\\Temp\\ipykernel_27804\\1173172521.py:9: UserWarning: pandas only supports SQLAlchemy connectable (engine/connection) or database string URI or sqlite3 DBAPI2 connection. Other DBAPI2 objects are not tested. Please consider using SQLAlchemy.\n",
      "  df_ora = pd.read_sql(query, con=conn)\n"
     ]
    },
    {
     "name": "stdout",
     "output_type": "stream",
     "text": [
      "+---------+-------------------+------------+---------------------------------------+-----------------+---------------------+-----------+\n",
      "| Field 1 |      Field 2      |  Field 3   |                Field 4                |     Field 5     |       Field 6       |  Field 7  |\n",
      "+---------+-------------------+------------+---------------------------------------+-----------------+---------------------+-----------+\n",
      "|    37   | COCACOLACO_174561 | 0501012643 |   GINGERBREAD FACTORY - LEAVENWORTH   | BE-UN-UNMATCHED | 2023-03-08 00:00:00 | 323826866 |\n",
      "|    37   | COCACOLACO_336238 | 0500838141 |        ADVENTURE PARK - LUBBOCK       | BE-UN-UNMATCHED | 2023-03-08 00:00:00 | 323826867 |\n",
      "|    37   | SOUTHEASTE_137351 |  72747361  | WADES FAMILY RESTERAUNT - SPARTANBURG | BE-UN-UNMATCHED | 2023-03-08 00:00:00 | 323826868 |\n",
      "+---------+-------------------+------------+---------------------------------------+-----------------+---------------------+-----------+\n"
     ]
    }
   ],
   "source": [
    "import cx_Oracle\n",
    "import pandas as pd\n",
    "import datetime as dt\n",
    "from prettytable import PrettyTable\n",
    "from db_credentials import user, password\n",
    "dsn_tns = cx_Oracle.makedsn('idkp.itradenetwork.com', '1521', service_name='idkp') \n",
    "conn = cx_Oracle.connect(user=user, password=password, dsn=dsn_tns) \n",
    "query = '''select /*+ ordered use_nl( ka s ul( ka ikas ss o) use_nl( ikas lkas bs )*/  vo.OWNER_ID,  vo.instill_code as \"Seller Instill Code\",  ikas.acct_num,  ikas.acct_name,   'BE-UN-UNMATCHED' AS \"Buyer Instill Code\",  to_date(current_date, 'DD-MM-YY'),ikas.known_acct_sig_id from   amap_owner.t_kas_analysis ka,  amap_owner.t_status s,  isig_owner.t_known_acct_sig ikas,  isig_owner.t_org_sig ss,    isig_owner.t_org_sig bs,   isds_org.v_organizations vo  where 0=0  and vo.instill_code not like 'DPSU_%'  and s.status_code IN ('INSTILL_MAP')  and ka.status_id = s.status_id  and ka.known_acct_sig_id = ikas.known_acct_sig_id  and ikas.seller_sig_id = ss.org_sig_id  and ss.org_num = vo.instill_code  and ikas.buyer_sig_id = bs.org_sig_id  and ikas.buyer_external_id = 2934326'''\n",
    "df_ora = pd.read_sql(query, con=conn)\n",
    "\n",
    "def print_data():\n",
    "    cur=conn.cursor()\n",
    "    cur.execute(query)\n",
    "    rows=cur.fetchall()\n",
    "    x=PrettyTable()\n",
    "    for row in rows:\n",
    "        x.add_row(row)\n",
    "    print(x)\n",
    "    cur.close()\n",
    "print_data()"
   ]
  },
  {
   "cell_type": "code",
   "execution_count": 24,
   "id": "da4a982e",
   "metadata": {},
   "outputs": [
    {
     "name": "stderr",
     "output_type": "stream",
     "text": [
      "C:\\Users\\nzheng\\AppData\\Local\\Temp\\ipykernel_27804\\2421905149.py:8: UserWarning: pandas only supports SQLAlchemy connectable (engine/connection) or database string URI or sqlite3 DBAPI2 connection. Other DBAPI2 objects are not tested. Please consider using SQLAlchemy.\n",
      "  df_ora = pd.read_sql(query, con=conn)\n"
     ]
    },
    {
     "name": "stdout",
     "output_type": "stream",
     "text": [
      "---------COMPASS CANADA ONLY--------\n",
      "+----------+---------------------+------------+---------------------------------------+--------------------+----------------------------------+-------------------+\n",
      "| OWNER_ID | Seller Instill Code |  ACCT_NUM  |               ACCT_NAME               | Buyer Instill Code | TO_DATE(CURRENT_DATE,'DD-MM-YY') | KNOWN_ACCT_SIG_ID |\n",
      "+----------+---------------------+------------+---------------------------------------+--------------------+----------------------------------+-------------------+\n",
      "|    37    |  COCACOLACO_174561  | 0501012643 |   GINGERBREAD FACTORY - LEAVENWORTH   |  BE-UN-UNMATCHED   |       2023-03-08 00:00:00        |     323826866     |\n",
      "|    37    |  COCACOLACO_336238  | 0500838141 |        ADVENTURE PARK - LUBBOCK       |  BE-UN-UNMATCHED   |       2023-03-08 00:00:00        |     323826867     |\n",
      "|    37    |  SOUTHEASTE_137351  |  72747361  | WADES FAMILY RESTERAUNT - SPARTANBURG |  BE-UN-UNMATCHED   |       2023-03-08 00:00:00        |     323826868     |\n",
      "+----------+---------------------+------------+---------------------------------------+--------------------+----------------------------------+-------------------+\n",
      "---------COMPASS_BATCH USA ONLY--------\n",
      "+----------+---------------------+------------+---------------------------------------+--------------------+----------------------------------+-------------------+\n",
      "| OWNER_ID | Seller Instill Code |  ACCT_NUM  |               ACCT_NAME               | Buyer Instill Code | TO_DATE(CURRENT_DATE,'DD-MM-YY') | KNOWN_ACCT_SIG_ID |\n",
      "+----------+---------------------+------------+---------------------------------------+--------------------+----------------------------------+-------------------+\n",
      "|    37    |  COCACOLACO_174561  | 0501012643 |   GINGERBREAD FACTORY - LEAVENWORTH   |  BE-UN-UNMATCHED   |       2023-03-08 00:00:00        |     323826866     |\n",
      "|    37    |  COCACOLACO_336238  | 0500838141 |        ADVENTURE PARK - LUBBOCK       |  BE-UN-UNMATCHED   |       2023-03-08 00:00:00        |     323826867     |\n",
      "|    37    |  SOUTHEASTE_137351  |  72747361  | WADES FAMILY RESTERAUNT - SPARTANBURG |  BE-UN-UNMATCHED   |       2023-03-08 00:00:00        |     323826868     |\n",
      "+----------+---------------------+------------+---------------------------------------+--------------------+----------------------------------+-------------------+\n"
     ]
    },
    {
     "ename": "KeyboardInterrupt",
     "evalue": "Interrupted by user",
     "output_type": "error",
     "traceback": [
      "\u001b[1;31m---------------------------------------------------------------------------\u001b[0m",
      "\u001b[1;31mKeyboardInterrupt\u001b[0m                         Traceback (most recent call last)",
      "Cell \u001b[1;32mIn[24], line 51\u001b[0m\n\u001b[0;32m     49\u001b[0m     print_data1()\n\u001b[0;32m     50\u001b[0m     print_data2()\n\u001b[1;32m---> 51\u001b[0m     run_program\u001b[38;5;241m=\u001b[39m\u001b[43mprompt_continue\u001b[49m\u001b[43m(\u001b[49m\u001b[43m)\u001b[49m\n\u001b[0;32m     53\u001b[0m conn\u001b[38;5;241m.\u001b[39mclose()\n",
      "Cell \u001b[1;32mIn[24], line 41\u001b[0m, in \u001b[0;36mprompt_continue\u001b[1;34m()\u001b[0m\n\u001b[0;32m     40\u001b[0m \u001b[38;5;28;01mdef\u001b[39;00m \u001b[38;5;21mprompt_continue\u001b[39m():\n\u001b[1;32m---> 41\u001b[0m     user_input \u001b[38;5;241m=\u001b[39m \u001b[38;5;28;43minput\u001b[39;49m\u001b[43m(\u001b[49m\u001b[38;5;124;43m\"\u001b[39;49m\u001b[38;5;124;43mpress \u001b[39;49m\u001b[38;5;124;43m'\u001b[39;49m\u001b[38;5;124;43mq\u001b[39;49m\u001b[38;5;124;43m'\u001b[39;49m\u001b[38;5;124;43m to exit or any other key to continue\u001b[39;49m\u001b[38;5;124;43m\"\u001b[39;49m\u001b[43m)\u001b[49m\n\u001b[0;32m     42\u001b[0m     \u001b[38;5;28;01mif\u001b[39;00m user_input\u001b[38;5;241m.\u001b[39mlower()\u001b[38;5;241m==\u001b[39m\u001b[38;5;124m\"\u001b[39m\u001b[38;5;124mq\u001b[39m\u001b[38;5;124m\"\u001b[39m:\n\u001b[0;32m     43\u001b[0m         \u001b[38;5;28;01mreturn\u001b[39;00m \u001b[38;5;28;01mFalse\u001b[39;00m\n",
      "File \u001b[1;32m~\\AppData\\Roaming\\Python\\Python311\\site-packages\\ipykernel\\kernelbase.py:1175\u001b[0m, in \u001b[0;36mKernel.raw_input\u001b[1;34m(self, prompt)\u001b[0m\n\u001b[0;32m   1171\u001b[0m \u001b[38;5;28;01mif\u001b[39;00m \u001b[38;5;129;01mnot\u001b[39;00m \u001b[38;5;28mself\u001b[39m\u001b[38;5;241m.\u001b[39m_allow_stdin:\n\u001b[0;32m   1172\u001b[0m     \u001b[38;5;28;01mraise\u001b[39;00m StdinNotImplementedError(\n\u001b[0;32m   1173\u001b[0m         \u001b[38;5;124m\"\u001b[39m\u001b[38;5;124mraw_input was called, but this frontend does not support input requests.\u001b[39m\u001b[38;5;124m\"\u001b[39m\n\u001b[0;32m   1174\u001b[0m     )\n\u001b[1;32m-> 1175\u001b[0m \u001b[38;5;28;01mreturn\u001b[39;00m \u001b[38;5;28;43mself\u001b[39;49m\u001b[38;5;241;43m.\u001b[39;49m\u001b[43m_input_request\u001b[49m\u001b[43m(\u001b[49m\n\u001b[0;32m   1176\u001b[0m \u001b[43m    \u001b[49m\u001b[38;5;28;43mstr\u001b[39;49m\u001b[43m(\u001b[49m\u001b[43mprompt\u001b[49m\u001b[43m)\u001b[49m\u001b[43m,\u001b[49m\n\u001b[0;32m   1177\u001b[0m \u001b[43m    \u001b[49m\u001b[38;5;28;43mself\u001b[39;49m\u001b[38;5;241;43m.\u001b[39;49m\u001b[43m_parent_ident\u001b[49m\u001b[43m[\u001b[49m\u001b[38;5;124;43m\"\u001b[39;49m\u001b[38;5;124;43mshell\u001b[39;49m\u001b[38;5;124;43m\"\u001b[39;49m\u001b[43m]\u001b[49m\u001b[43m,\u001b[49m\n\u001b[0;32m   1178\u001b[0m \u001b[43m    \u001b[49m\u001b[38;5;28;43mself\u001b[39;49m\u001b[38;5;241;43m.\u001b[39;49m\u001b[43mget_parent\u001b[49m\u001b[43m(\u001b[49m\u001b[38;5;124;43m\"\u001b[39;49m\u001b[38;5;124;43mshell\u001b[39;49m\u001b[38;5;124;43m\"\u001b[39;49m\u001b[43m)\u001b[49m\u001b[43m,\u001b[49m\n\u001b[0;32m   1179\u001b[0m \u001b[43m    \u001b[49m\u001b[43mpassword\u001b[49m\u001b[38;5;241;43m=\u001b[39;49m\u001b[38;5;28;43;01mFalse\u001b[39;49;00m\u001b[43m,\u001b[49m\n\u001b[0;32m   1180\u001b[0m \u001b[43m\u001b[49m\u001b[43m)\u001b[49m\n",
      "File \u001b[1;32m~\\AppData\\Roaming\\Python\\Python311\\site-packages\\ipykernel\\kernelbase.py:1217\u001b[0m, in \u001b[0;36mKernel._input_request\u001b[1;34m(self, prompt, ident, parent, password)\u001b[0m\n\u001b[0;32m   1214\u001b[0m             \u001b[38;5;28;01mbreak\u001b[39;00m\n\u001b[0;32m   1215\u001b[0m \u001b[38;5;28;01mexcept\u001b[39;00m \u001b[38;5;167;01mKeyboardInterrupt\u001b[39;00m:\n\u001b[0;32m   1216\u001b[0m     \u001b[38;5;66;03m# re-raise KeyboardInterrupt, to truncate traceback\u001b[39;00m\n\u001b[1;32m-> 1217\u001b[0m     \u001b[38;5;28;01mraise\u001b[39;00m \u001b[38;5;167;01mKeyboardInterrupt\u001b[39;00m(\u001b[38;5;124m\"\u001b[39m\u001b[38;5;124mInterrupted by user\u001b[39m\u001b[38;5;124m\"\u001b[39m) \u001b[38;5;28;01mfrom\u001b[39;00m \u001b[38;5;28mNone\u001b[39m\n\u001b[0;32m   1218\u001b[0m \u001b[38;5;28;01mexcept\u001b[39;00m \u001b[38;5;167;01mException\u001b[39;00m:\n\u001b[0;32m   1219\u001b[0m     \u001b[38;5;28mself\u001b[39m\u001b[38;5;241m.\u001b[39mlog\u001b[38;5;241m.\u001b[39mwarning(\u001b[38;5;124m\"\u001b[39m\u001b[38;5;124mInvalid Message:\u001b[39m\u001b[38;5;124m\"\u001b[39m, exc_info\u001b[38;5;241m=\u001b[39m\u001b[38;5;28;01mTrue\u001b[39;00m)\n",
      "\u001b[1;31mKeyboardInterrupt\u001b[0m: Interrupted by user"
     ]
    }
   ],
   "source": [
    "import cx_Oracle\n",
    "import pandas as pd\n",
    "import datetime as dt\n",
    "from prettytable import PrettyTable\n",
    "dsn_tns = cx_Oracle.makedsn('idkp.itradenetwork.com', '1521', service_name='idkp') \n",
    "conn = cx_Oracle.connect(user='nzheng', password='Feb_2019_NZ', dsn=dsn_tns) \n",
    "query = '''select /*+ ordered use_nl( ka s ul( ka ikas ss o) use_nl( ikas lkas bs )*/  vo.OWNER_ID,  vo.instill_code as \"Seller Instill Code\",  ikas.acct_num,  ikas.acct_name,   'BE-UN-UNMATCHED' AS \"Buyer Instill Code\",  to_date(current_date, 'DD-MM-YY'),ikas.known_acct_sig_id from   amap_owner.t_kas_analysis ka,  amap_owner.t_status s,  isig_owner.t_known_acct_sig ikas,  isig_owner.t_org_sig ss,    isig_owner.t_org_sig bs,   isds_org.v_organizations vo  where 0=0  and vo.instill_code not like 'DPSU_%'  and s.status_code IN ('INSTILL_MAP')  and ka.status_id = s.status_id  and ka.known_acct_sig_id = ikas.known_acct_sig_id  and ikas.seller_sig_id = ss.org_sig_id  and ss.org_num = vo.instill_code  and ikas.buyer_sig_id = bs.org_sig_id  and ikas.buyer_external_id = 2934326'''\n",
    "df_ora = pd.read_sql(query, con=conn)\n",
    "query1 = '''select /*+ ordered use_nl( ka s ul( ka ikas ss o) use_nl( ikas lkas bs )*/  vo.OWNER_ID,  vo.instill_code as \"Seller Instill Code\",  ikas.acct_num,  ikas.acct_name,   'BE-UN-UNMATCHED' AS \"Buyer Instill Code\",  to_date(current_date, 'DD-MM-YY'),ikas.known_acct_sig_id from   amap_owner.t_kas_analysis ka,  amap_owner.t_status s,  isig_owner.t_known_acct_sig ikas,  isig_owner.t_org_sig ss,    isig_owner.t_org_sig bs,   isds_org.v_organizations vo  where 0=0  and vo.instill_code not like 'DPSU_%'  and s.status_code IN ('INSTILL_MAP')  and ka.status_id = s.status_id  and ka.known_acct_sig_id = ikas.known_acct_sig_id  and ikas.seller_sig_id = ss.org_sig_id  and ss.org_num = vo.instill_code  and ikas.buyer_sig_id = bs.org_sig_id  and ikas.buyer_external_id = 2934326'''\n",
    "\n",
    "def print_data1():\n",
    "    cur=conn.cursor()\n",
    "    cur.execute(query)\n",
    "    rows=cur.fetchall()\n",
    "    \n",
    "    column_names = [desc[0] for desc in cur.description]\n",
    "    x=PrettyTable(column_names)\n",
    "    for row in rows:\n",
    "        x.add_row(row)\n",
    "    \n",
    "    print(\"---------COMPASS CANADA ONLY--------\")\n",
    "    print(x)\n",
    "    cur.close()\n",
    "    \n",
    "\n",
    "def print_data2():\n",
    "    cur=conn.cursor()\n",
    "    cur.execute(query1)\n",
    "    rows=cur.fetchall()\n",
    "    column_names = [desc[0] for desc in cur.description]\n",
    "    x=PrettyTable(column_names)\n",
    "    for row in rows:\n",
    "        x.add_row(row)\n",
    "    \n",
    "    print(\"---------COMPASS_BATCH USA ONLY--------\")\n",
    "    print(x)\n",
    "    cur.close()\n",
    "    \n",
    "    \n",
    "def prompt_continue():\n",
    "    user_input = input(\"press 'q' to exit or any other key to continue\")\n",
    "    if user_input.lower()==\"q\":\n",
    "        return False\n",
    "    else:\n",
    "        return True\n",
    "\n",
    "run_program = True\n",
    "while run_program:\n",
    "    print_data1()\n",
    "    print_data2()\n",
    "    run_program=prompt_continue()\n",
    "\n",
    "conn.close()\n"
   ]
  },
  {
   "cell_type": "code",
   "execution_count": 2,
   "id": "13060026",
   "metadata": {},
   "outputs": [
    {
     "ename": "DatabaseError",
     "evalue": "ORA-00911: invalid character",
     "output_type": "error",
     "traceback": [
      "\u001b[1;31m---------------------------------------------------------------------------\u001b[0m",
      "\u001b[1;31mDatabaseError\u001b[0m                             Traceback (most recent call last)",
      "Cell \u001b[1;32mIn[2], line 62\u001b[0m\n\u001b[0;32m     60\u001b[0m run_program \u001b[38;5;241m=\u001b[39m \u001b[38;5;28;01mTrue\u001b[39;00m\n\u001b[0;32m     61\u001b[0m \u001b[38;5;28;01mwhile\u001b[39;00m run_program:\n\u001b[1;32m---> 62\u001b[0m     \u001b[43mprint_data1\u001b[49m\u001b[43m(\u001b[49m\u001b[43m)\u001b[49m\n\u001b[0;32m     63\u001b[0m     print_data2()\n\u001b[0;32m     64\u001b[0m     run_program\u001b[38;5;241m=\u001b[39mprompt_continue()\n",
      "Cell \u001b[1;32mIn[2], line 25\u001b[0m, in \u001b[0;36mprint_data1\u001b[1;34m()\u001b[0m\n\u001b[0;32m     23\u001b[0m \u001b[38;5;28;01mdef\u001b[39;00m \u001b[38;5;21mprint_data1\u001b[39m():\n\u001b[0;32m     24\u001b[0m     cur\u001b[38;5;241m=\u001b[39mconn\u001b[38;5;241m.\u001b[39mcursor()\n\u001b[1;32m---> 25\u001b[0m     \u001b[43mcur\u001b[49m\u001b[38;5;241;43m.\u001b[39;49m\u001b[43mexecute\u001b[49m\u001b[43m(\u001b[49m\u001b[43mquery\u001b[49m\u001b[43m)\u001b[49m\n\u001b[0;32m     26\u001b[0m     rows\u001b[38;5;241m=\u001b[39mcur\u001b[38;5;241m.\u001b[39mfetchall()\n\u001b[0;32m     28\u001b[0m     column_names \u001b[38;5;241m=\u001b[39m [desc[\u001b[38;5;241m0\u001b[39m] \u001b[38;5;28;01mfor\u001b[39;00m desc \u001b[38;5;129;01min\u001b[39;00m cur\u001b[38;5;241m.\u001b[39mdescription]\n",
      "\u001b[1;31mDatabaseError\u001b[0m: ORA-00911: invalid character"
     ]
    }
   ],
   "source": [
    "import cx_Oracle\n",
    "import pandas as pd\n",
    "import datetime as dt\n",
    "from prettytable import PrettyTable\n",
    "from db_credentials import user, password, password2\n",
    "dsn_tns = cx_Oracle.makedsn('idxt.itradenetwork.com', '1521', service_name='idxt') \n",
    "conn = cx_Oracle.connect(user=user, password=password2, dsn=dsn_tns) \n",
    "query = \"\"\"\n",
    "select t.package_id,t.data_feed_name,t.supplier_id as DISTRIBUTOR_EDI_ID,max(t.ts),to_char(min(t.invoice_date),'MM/DD/YYYY') as Start1,to_char(max(t.invoice_date),'MM/DD/YYYY') as End1,count(*),sum(count(invoice_id)) over (order by package_id rows between unbounded preceding and current row) as total_rows,t.transaction_currency\n",
    "    from icust_owner.t_compass_canada_invoice_flat t\n",
    "        where t.package_id > (\n",
    "            select max(e.last_package_id)\n",
    "                from icust_owner.T_EXTRACT_PROCESS_STATS e\n",
    "                    where e.process_name like 'COMPASS%'\n",
    "                    and e.state_code = 'END')\n",
    "    group by package_id, data_feed_name, t.supplier_id ,t.transaction_currency\n",
    "    order by t.package_id;\n",
    "    \n",
    "\"\"\"\n",
    "\n",
    "#query1 = '''select /*+ ordered use_nl( ka s ul( ka ikas ss o) use_nl( ikas lkas bs )*/  vo.OWNER_ID,  vo.instill_code as \"Seller Instill Code\",  ikas.acct_num,  ikas.acct_name,   'BE-UN-UNMATCHED' AS \"Buyer Instill Code\",  to_date(current_date, 'DD-MM-YY'),ikas.known_acct_sig_id from   amap_owner.t_kas_analysis ka,  amap_owner.t_status s,  isig_owner.t_known_acct_sig ikas,  isig_owner.t_org_sig ss,    isig_owner.t_org_sig bs,   isds_org.v_organizations vo  where 0=0  and vo.instill_code not like 'DPSU_%'  and s.status_code IN ('INSTILL_MAP')  and ka.status_id = s.status_id  and ka.known_acct_sig_id = ikas.known_acct_sig_id  and ikas.seller_sig_id = ss.org_sig_id  and ss.org_num = vo.instill_code  and ikas.buyer_sig_id = bs.org_sig_id  and ikas.buyer_external_id = 2934326'''\n",
    "\n",
    "def print_data1():\n",
    "    cur=conn.cursor()\n",
    "    cur.execute(query)\n",
    "    rows=cur.fetchall()\n",
    "    \n",
    "    column_names = [desc[0] for desc in cur.description]\n",
    "    x=PrettyTable(column_names)\n",
    "    for row in rows:\n",
    "        x.add_row(row)\n",
    "    \n",
    "    print(\"---------COMPASS CANADA ONLY--------\")\n",
    "    print(x)\n",
    "    cur.close()\n",
    "    \n",
    "\n",
    "def print_data2():\n",
    "    cur=conn.cursor()\n",
    "    cur.execute(query)\n",
    "    rows=cur.fetchall()\n",
    "    column_names = [desc[0] for desc in cur.description]\n",
    "    x=PrettyTable(column_names)\n",
    "    for row in rows:\n",
    "        x.add_row(row)\n",
    "    \n",
    "    print(\"---------COMPASS_BATCH USA ONLY--------\")\n",
    "    print(x)\n",
    "    cur.close()\n",
    "    \n",
    "    \n",
    "def prompt_continue():\n",
    "    user_input = input(\"press 'q' to exit or any other key to continue\")\n",
    "    if user_input.lower()==\"q\":\n",
    "        return False\n",
    "    else:\n",
    "        return True\n",
    "\n",
    "    \n",
    "run_program = True\n",
    "while run_program:\n",
    "    print_data1()\n",
    "    print_data2()\n",
    "    run_program=prompt_continue()\n",
    "\n",
    "conn.close()\n"
   ]
  },
  {
   "cell_type": "code",
   "execution_count": null,
   "id": "fa66eab7",
   "metadata": {},
   "outputs": [],
   "source": []
  },
  {
   "cell_type": "code",
   "execution_count": 1,
   "id": "feb21609",
   "metadata": {},
   "outputs": [],
   "source": [
    "import cx_Oracle\n",
    "import pandas as pd\n",
    "import datetime as dt\n",
    "from prettytable import PrettyTable\n",
    "dsn_tns = cx_Oracle.makedsn('idxt.itradenetwork.com', '1521', service_name='idxt') \n",
    "conn = cx_Oracle.connect(user='nzheng', password='QAwBJCw_JEwDh5cg', dsn=dsn_tns) "
   ]
  },
  {
   "cell_type": "code",
   "execution_count": 1,
   "id": "aeffcf91",
   "metadata": {},
   "outputs": [],
   "source": []
  },
  {
   "cell_type": "code",
   "execution_count": null,
   "id": "5c9b29c6",
   "metadata": {},
   "outputs": [],
   "source": []
  }
 ],
 "metadata": {
  "kernelspec": {
   "display_name": "Python 3 (ipykernel)",
   "language": "python",
   "name": "python3"
  },
  "language_info": {
   "codemirror_mode": {
    "name": "ipython",
    "version": 3
   },
   "file_extension": ".py",
   "mimetype": "text/x-python",
   "name": "python",
   "nbconvert_exporter": "python",
   "pygments_lexer": "ipython3",
   "version": "3.11.1"
  }
 },
 "nbformat": 4,
 "nbformat_minor": 5
}
